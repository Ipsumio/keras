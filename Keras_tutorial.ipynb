{
 "cells": [
  {
   "cell_type": "code",
   "execution_count": 1,
   "metadata": {},
   "outputs": [
    {
     "name": "stdout",
     "output_type": "stream",
     "text": [
      "2.4.1\n",
      "2.4.3\n"
     ]
    }
   ],
   "source": [
    "import tensorflow as tf\n",
    "import keras\n",
    "print(tf.__version__)\n",
    "print(keras.__version__)"
   ]
  },
  {
   "cell_type": "markdown",
   "metadata": {},
   "source": [
    "# Keras tutorial"
   ]
  },
  {
   "cell_type": "markdown",
   "metadata": {},
   "source": [
    "* The aim of this tutorial is to introduce Keras DL library.\n",
    "\n",
    "* I am **not** going to teach machine learning or how NNs work.\n",
    "\n",
    "* If you would like to learn about NNs [here is a tutorial](https://www.youtube.com/watch?v=yx22I4SqO1g) I did previously.\n",
    "\n",
    "* We will focus on MLP."
   ]
  },
  {
   "cell_type": "markdown",
   "metadata": {},
   "source": [
    "<img src=https://i.imgur.com/OFNAslJ.png width=\"500\">"
   ]
  },
  {
   "cell_type": "markdown",
   "metadata": {},
   "source": [
    "## 1. What is Keras?"
   ]
  },
  {
   "cell_type": "code",
   "execution_count": 2,
   "metadata": {},
   "outputs": [],
   "source": [
    "import numpy as np\n",
    "import matplotlib.pyplot as plt"
   ]
  },
  {
   "cell_type": "code",
   "execution_count": 3,
   "metadata": {},
   "outputs": [],
   "source": [
    "# Load the dataset\n",
    "from keras.datasets import mnist\n",
    "(x_train, y_train), (x_test, y_test) = mnist.load_data()"
   ]
  },
  {
   "cell_type": "code",
   "execution_count": 4,
   "metadata": {},
   "outputs": [
    {
     "name": "stdout",
     "output_type": "stream",
     "text": [
      "Label: 9\n"
     ]
    },
    {
     "data": {
      "image/png": "[encoded data removed]",
      "text/plain": [
       "<Figure size 432x288 with 2 Axes>"
      ]
     },
     "metadata": {
      "needs_background": "light"
     },
     "output_type": "display_data"
    }
   ],
   "source": [
    "# Visualize the dataset\n",
    "index = np.random.randint(0, 60000)\n",
    "plt.imshow(x_train[index])\n",
    "plt.colorbar()\n",
    "print('Label:', y_train[index])"
   ]
  },
  {
   "cell_type": "code",
   "execution_count": 5,
   "metadata": {},
   "outputs": [
    {
     "name": "stdout",
     "output_type": "stream",
     "text": [
      "Model: \"sequential\"\n",
      "_________________________________________________________________\n",
      "Layer (type)                 Output Shape              Param #   \n",
      "=================================================================\n",
      "dense (Dense)                (None, 30)                23550     \n",
      "_________________________________________________________________\n",
      "activation (Activation)      (None, 30)                0         \n",
      "_________________________________________________________________\n",
      "dense_1 (Dense)              (None, 30)                930       \n",
      "_________________________________________________________________\n",
      "activation_1 (Activation)    (None, 30)                0         \n",
      "_________________________________________________________________\n",
      "dense_2 (Dense)              (None, 10)                310       \n",
      "_________________________________________________________________\n",
      "activation_2 (Activation)    (None, 10)                0         \n",
      "=================================================================\n",
      "Total params: 24,790\n",
      "Trainable params: 24,790\n",
      "Non-trainable params: 0\n",
      "_________________________________________________________________\n",
      "1875/1875 [==============================] - 6s 2ms/step - loss: 0.5992 - accuracy: 0.8264\n",
      "313/313 [==============================] - 1s 1ms/step - loss: 0.2006 - accuracy: 0.9383\n"
     ]
    }
   ],
   "source": [
    "from keras.utils import to_categorical\n",
    "from keras.models import Sequential\n",
    "from keras.layers import Dense, Activation\n",
    "# STEP 1: PREPROCESSING\n",
    "x_train = x_train/255\n",
    "x_test = x_test/255\n",
    "x_train = x_train.reshape(60000, -1)\n",
    "x_test = x_test.reshape(10000, -1)\n",
    "y_test = to_categorical(y_test)\n",
    "y_train = to_categorical(y_train)\n",
    "# STEP 2: Architecture\n",
    "model = Sequential()\n",
    "model.add(Dense(30, input_shape=(784,)))\n",
    "model.add(Activation('relu'))\n",
    "model.add(Dense(30))\n",
    "model.add(Activation('relu'))\n",
    "model.add(Dense(10))\n",
    "model.add(Activation('softmax'))\n",
    "model.summary()\n",
    "# STEP 3: Configure learning\n",
    "model.compile(optimizer='adam',\n",
    "              loss='categorical_crossentropy',\n",
    "              metrics=['accuracy'])\n",
    "# STEP 4: Train\n",
    "model.fit(x_train, y_train)\n",
    "# STEP 5: Test\n",
    "eval_metrics = model.evaluate(x_test, y_test)"
   ]
  },
  {
   "cell_type": "markdown",
   "metadata": {},
   "source": [
    "<img src=https://i.imgur.com/P8hdhj1.png width=\"300\" align=\"left\">"
   ]
  },
  {
   "cell_type": "markdown",
   "metadata": {},
   "source": [
    "|Model dev steps| High level | Low level | Challenges |\n",
    "| --- | --- | --- | --- |\n",
    "|Input: Raw data|  |  |  |\n",
    "|1. Preprocessing| Normalize, Reshape | Normalization as a layer | Reshape as a layer |\n",
    "|2. Architecture| Type, #layers, #nodes | Functional API, change init | Skip connection |\n",
    "|3. Configure learning| .compile(Optimizer, Loss) | change LR | Accuracy on digit 8 |\n",
    "|4. Train| .fit(x_train, y_train) | Early stopping | ModelCheckpoint |\n",
    "|5. Analyze| .evaluate(x_test, y_test) | History | Plot top 20 losses |\n",
    "|Output: Model|  |  |  |"
   ]
  },
  {
   "cell_type": "markdown",
   "metadata": {},
   "source": [
    "## 2. High level"
   ]
  },
  {
   "cell_type": "markdown",
   "metadata": {},
   "source": [
    "|Model dev steps| High level |\n",
    "| --- | --- |\n",
    "|Input: Raw data|  |\n",
    "|1. Preprocessing| Normalize, Reshape |\n",
    "|2. Architecture| Type, #layers, #nodes |\n",
    "|3. Configure learning| .compile(Optimizer, Loss) |\n",
    "|4. Train| .fit(x_train, y_train) |\n",
    "|5. Analyze| .evaluate(x_test, y_test) |\n",
    "|Output: Model|  |"
   ]
  },
  {
   "cell_type": "code",
   "execution_count": 6,
   "metadata": {},
   "outputs": [],
   "source": [
    "import numpy as np\n",
    "import matplotlib.pyplot as plt"
   ]
  },
  {
   "cell_type": "code",
   "execution_count": 7,
   "metadata": {},
   "outputs": [],
   "source": [
    "from keras.datasets import mnist\n",
    "(x_train, y_train), (x_test, y_test) = mnist.load_data()"
   ]
  },
  {
   "cell_type": "code",
   "execution_count": 8,
   "metadata": {},
   "outputs": [
    {
     "name": "stdout",
     "output_type": "stream",
     "text": [
      "Label: 0\n"
     ]
    },
    {
     "data": {
      "image/png": "[encoded data removed]",
      "text/plain": [
       "<Figure size 432x288 with 2 Axes>"
      ]
     },
     "metadata": {
      "needs_background": "light"
     },
     "output_type": "display_data"
    }
   ],
   "source": [
    "index = np.random.randint(0, 60000)\n",
    "plt.imshow(x_train[index])\n",
    "plt.colorbar()\n",
    "print('Label:', y_train[index])"
   ]
  },
  {
   "cell_type": "code",
   "execution_count": 9,
   "metadata": {},
   "outputs": [],
   "source": [
    "# STEP 1: PREPROCESSING\n",
    "x_train = x_train/255\n",
    "x_test = x_test/255\n",
    "\n",
    "x_train = x_train.reshape(60000, -1)\n",
    "x_test = x_test.reshape(10000, -1)"
   ]
  },
  {
   "cell_type": "code",
   "execution_count": 10,
   "metadata": {},
   "outputs": [],
   "source": [
    "from keras.utils import to_categorical\n",
    "y_test = to_categorical(y_test)\n",
    "y_train = to_categorical(y_train)"
   ]
  },
  {
   "cell_type": "code",
   "execution_count": 11,
   "metadata": {},
   "outputs": [],
   "source": [
    "# STEP 2: Architecture\n",
    "from keras.models import Sequential\n",
    "from keras.layers import Dense, Activation"
   ]
  },
  {
   "cell_type": "code",
   "execution_count": 12,
   "metadata": {},
   "outputs": [
    {
     "name": "stdout",
     "output_type": "stream",
     "text": [
      "Model: \"sequential_1\"\n",
      "_________________________________________________________________\n",
      "Layer (type)                 Output Shape              Param #   \n",
      "=================================================================\n",
      "dense_3 (Dense)              (None, 30)                23550     \n",
      "_________________________________________________________________\n",
      "activation_3 (Activation)    (None, 30)                0         \n",
      "_________________________________________________________________\n",
      "dense_4 (Dense)              (None, 30)                930       \n",
      "_________________________________________________________________\n",
      "activation_4 (Activation)    (None, 30)                0         \n",
      "_________________________________________________________________\n",
      "dense_5 (Dense)              (None, 10)                310       \n",
      "_________________________________________________________________\n",
      "activation_5 (Activation)    (None, 10)                0         \n",
      "=================================================================\n",
      "Total params: 24,790\n",
      "Trainable params: 24,790\n",
      "Non-trainable params: 0\n",
      "_________________________________________________________________\n"
     ]
    }
   ],
   "source": [
    "model = Sequential()\n",
    "model.add(Dense(30, input_shape=(784,)))\n",
    "model.add(Activation('relu'))\n",
    "model.add(Dense(30))\n",
    "model.add(Activation('relu'))\n",
    "model.add(Dense(10))\n",
    "model.add(Activation('softmax'))\n",
    "\n",
    "model.summary()"
   ]
  },
  {
   "cell_type": "code",
   "execution_count": 13,
   "metadata": {},
   "outputs": [],
   "source": [
    "model.compile(optimizer='adam', loss='categorical_crossentropy', metrics=['accuracy'])"
   ]
  },
  {
   "cell_type": "code",
   "execution_count": 14,
   "metadata": {},
   "outputs": [
    {
     "name": "stdout",
     "output_type": "stream",
     "text": [
      "1875/1875 [==============================] - 3s 1ms/step - loss: 0.6384 - accuracy: 0.8111\n"
     ]
    },
    {
     "data": {
      "text/plain": [
       "<tensorflow.python.keras.callbacks.History at 0x10bb397f0>"
      ]
     },
     "execution_count": 14,
     "metadata": {},
     "output_type": "execute_result"
    }
   ],
   "source": [
    "model.fit(x_train, y_train)"
   ]
  },
  {
   "cell_type": "code",
   "execution_count": 15,
   "metadata": {},
   "outputs": [
    {
     "name": "stdout",
     "output_type": "stream",
     "text": [
      "Epoch 1/5\n",
      "1875/1875 [==============================] - 4s 2ms/step - loss: 0.1645 - accuracy: 0.9513 - val_loss: 0.1561 - val_accuracy: 0.9527\n",
      "Epoch 2/5\n",
      "1875/1875 [==============================] - 3s 2ms/step - loss: 0.1315 - accuracy: 0.9604 - val_loss: 0.1314 - val_accuracy: 0.9590\n",
      "Epoch 3/5\n",
      "1875/1875 [==============================] - 3s 2ms/step - loss: 0.1093 - accuracy: 0.9674 - val_loss: 0.1279 - val_accuracy: 0.9612\n",
      "Epoch 4/5\n",
      "1875/1875 [==============================] - 3s 2ms/step - loss: 0.0961 - accuracy: 0.9706 - val_loss: 0.1120 - val_accuracy: 0.9654\n",
      "Epoch 5/5\n",
      "1875/1875 [==============================] - 3s 2ms/step - loss: 0.0851 - accuracy: 0.9736 - val_loss: 0.1065 - val_accuracy: 0.9663\n"
     ]
    },
    {
     "data": {
      "text/plain": [
       "<tensorflow.python.keras.callbacks.History at 0x10bac6898>"
      ]
     },
     "execution_count": 15,
     "metadata": {},
     "output_type": "execute_result"
    }
   ],
   "source": [
    "model.fit(x_train, y_train, epochs=5, batch_size=32, validation_data=(x_test, y_test))"
   ]
  },
  {
   "cell_type": "code",
   "execution_count": 16,
   "metadata": {},
   "outputs": [
    {
     "name": "stdout",
     "output_type": "stream",
     "text": [
      "313/313 [==============================] - 0s 951us/step - loss: 0.1065 - accuracy: 0.9663\n"
     ]
    }
   ],
   "source": [
    "eval_metrics = model.evaluate(x_test, y_test)"
   ]
  },
  {
   "cell_type": "markdown",
   "metadata": {},
   "source": [
    "## 3. Low level"
   ]
  },
  {
   "cell_type": "markdown",
   "metadata": {},
   "source": [
    "|Model dev steps| High level | Low level |\n",
    "| --- | --- | --- |\n",
    "|Input: Raw data|  |  |\n",
    "|1. Preprocessing| Normalize, Reshape | Normalization as a layer |\n",
    "|2. Architecture| Type, #layers, #nodes | Functional API, change init |\n",
    "|3. Configure learning| .compile(Optimizer, Loss) | change LR |\n",
    "|4. Train| .fit(x_train, y_train) | Early stopping |\n",
    "|5. Analyze| .evaluate(x_test, y_test) | History |\n",
    "|Output: Model|  |  |"
   ]
  },
  {
   "cell_type": "code",
   "execution_count": 17,
   "metadata": {},
   "outputs": [],
   "source": [
    "import numpy as np\n",
    "import matplotlib.pyplot as plt"
   ]
  },
  {
   "cell_type": "code",
   "execution_count": 18,
   "metadata": {},
   "outputs": [],
   "source": [
    "from keras.datasets import mnist\n",
    "(x_train, y_train), (x_test, y_test) = mnist.load_data()"
   ]
  },
  {
   "cell_type": "code",
   "execution_count": 19,
   "metadata": {},
   "outputs": [
    {
     "name": "stdout",
     "output_type": "stream",
     "text": [
      "Label: 9\n"
     ]
    },
    {
     "data": {
      "image/png": "[encoded data removed]",
      "text/plain": [
       "<Figure size 432x288 with 2 Axes>"
      ]
     },
     "metadata": {
      "needs_background": "light"
     },
     "output_type": "display_data"
    }
   ],
   "source": [
    "index = np.random.randint(0, 60000)\n",
    "plt.imshow(x_train[index])\n",
    "plt.colorbar()\n",
    "print('Label:', y_train[index])"
   ]
  },
  {
   "cell_type": "code",
   "execution_count": 20,
   "metadata": {},
   "outputs": [],
   "source": [
    "# STEP 1: PREPROCESSING\n",
    "x_train = x_train.reshape(60000, -1)\n",
    "x_test = x_test.reshape(10000, -1)"
   ]
  },
  {
   "cell_type": "code",
   "execution_count": 21,
   "metadata": {},
   "outputs": [],
   "source": [
    "from keras.utils import to_categorical\n",
    "y_test = to_categorical(y_test)\n",
    "y_train = to_categorical(y_train)"
   ]
  },
  {
   "cell_type": "code",
   "execution_count": 22,
   "metadata": {},
   "outputs": [
    {
     "name": "stdout",
     "output_type": "stream",
     "text": [
      "Model: \"model\"\n",
      "_________________________________________________________________\n",
      "Layer (type)                 Output Shape              Param #   \n",
      "=================================================================\n",
      "input_1 (InputLayer)         [(None, 784)]             0         \n",
      "_________________________________________________________________\n",
      "rescaling (Rescaling)        (None, 784)               0         \n",
      "_________________________________________________________________\n",
      "dense_6 (Dense)              (None, 30)                23550     \n",
      "_________________________________________________________________\n",
      "activation_6 (Activation)    (None, 30)                0         \n",
      "_________________________________________________________________\n",
      "dense_7 (Dense)              (None, 30)                930       \n",
      "_________________________________________________________________\n",
      "activation_7 (Activation)    (None, 30)                0         \n",
      "_________________________________________________________________\n",
      "dense_8 (Dense)              (None, 10)                310       \n",
      "_________________________________________________________________\n",
      "activation_8 (Activation)    (None, 10)                0         \n",
      "=================================================================\n",
      "Total params: 24,790\n",
      "Trainable params: 24,790\n",
      "Non-trainable params: 0\n",
      "_________________________________________________________________\n"
     ]
    }
   ],
   "source": [
    "# STEP 2.1 Architecture Functional API\n",
    "from keras.layers import Input\n",
    "from keras.models import Model\n",
    "from keras.layers import Dense, Activation\n",
    "from keras.layers.experimental.preprocessing import Rescaling\n",
    "\n",
    "inp = Input(shape=(784))\n",
    "x = Rescaling(scale=1/255)(inp)\n",
    "x = Dense(30, kernel_initializer='he_normal')(x)\n",
    "x = Activation('relu')(x)\n",
    "x = Dense(30, kernel_initializer='he_normal')(x)\n",
    "x = Activation('relu')(x)\n",
    "x = Dense(10)(x)\n",
    "x = Activation('softmax')(x)\n",
    "\n",
    "model = Model(inputs=inp, outputs=x)\n",
    "\n",
    "model.summary()"
   ]
  },
  {
   "cell_type": "code",
   "execution_count": 23,
   "metadata": {},
   "outputs": [],
   "source": [
    "from keras.optimizers import Adam\n",
    "opt = Adam(learning_rate=0.001)\n",
    "model.compile(optimizer=opt, loss='categorical_crossentropy', metrics=['accuracy'])"
   ]
  },
  {
   "cell_type": "code",
   "execution_count": 24,
   "metadata": {},
   "outputs": [],
   "source": [
    "from keras.callbacks import EarlyStopping\n",
    "es = EarlyStopping(monitor='val_accuracy', patience=2, restore_best_weights=True)"
   ]
  },
  {
   "cell_type": "code",
   "execution_count": 25,
   "metadata": {},
   "outputs": [
    {
     "name": "stdout",
     "output_type": "stream",
     "text": [
      "Epoch 1/100\n",
      "1875/1875 [==============================] - 3s 2ms/step - loss: 0.6359 - accuracy: 0.8073 - val_loss: 0.2022 - val_accuracy: 0.9439\n",
      "Epoch 2/100\n",
      "1875/1875 [==============================] - 3s 2ms/step - loss: 0.1881 - accuracy: 0.9449 - val_loss: 0.1677 - val_accuracy: 0.9514\n",
      "Epoch 3/100\n",
      "1875/1875 [==============================] - 3s 2ms/step - loss: 0.1486 - accuracy: 0.9551 - val_loss: 0.1481 - val_accuracy: 0.9574\n",
      "Epoch 4/100\n",
      "1875/1875 [==============================] - 3s 2ms/step - loss: 0.1243 - accuracy: 0.9630 - val_loss: 0.1309 - val_accuracy: 0.9614\n",
      "Epoch 5/100\n",
      "1875/1875 [==============================] - 3s 2ms/step - loss: 0.1039 - accuracy: 0.9679 - val_loss: 0.1329 - val_accuracy: 0.9607\n",
      "Epoch 6/100\n",
      "1875/1875 [==============================] - 3s 2ms/step - loss: 0.0960 - accuracy: 0.9715 - val_loss: 0.1234 - val_accuracy: 0.9653\n",
      "Epoch 7/100\n",
      "1875/1875 [==============================] - 4s 2ms/step - loss: 0.0819 - accuracy: 0.9748 - val_loss: 0.1254 - val_accuracy: 0.9636\n",
      "Epoch 8/100\n",
      "1875/1875 [==============================] - 3s 2ms/step - loss: 0.0736 - accuracy: 0.9775 - val_loss: 0.1184 - val_accuracy: 0.9666\n",
      "Epoch 9/100\n",
      "1875/1875 [==============================] - 4s 2ms/step - loss: 0.0671 - accuracy: 0.9795 - val_loss: 0.1266 - val_accuracy: 0.9643\n",
      "Epoch 10/100\n",
      "1875/1875 [==============================] - 3s 2ms/step - loss: 0.0599 - accuracy: 0.9817 - val_loss: 0.1158 - val_accuracy: 0.9669\n",
      "Epoch 11/100\n",
      "1875/1875 [==============================] - 3s 2ms/step - loss: 0.0573 - accuracy: 0.9832 - val_loss: 0.1271 - val_accuracy: 0.9663\n",
      "Epoch 12/100\n",
      "1875/1875 [==============================] - 4s 2ms/step - loss: 0.0536 - accuracy: 0.9830 - val_loss: 0.1175 - val_accuracy: 0.9671\n",
      "Epoch 13/100\n",
      "1875/1875 [==============================] - 4s 2ms/step - loss: 0.0512 - accuracy: 0.9837 - val_loss: 0.1260 - val_accuracy: 0.9670\n",
      "Epoch 14/100\n",
      "1875/1875 [==============================] - 4s 2ms/step - loss: 0.0473 - accuracy: 0.9845 - val_loss: 0.1186 - val_accuracy: 0.9689\n",
      "Epoch 15/100\n",
      "1875/1875 [==============================] - 3s 2ms/step - loss: 0.0425 - accuracy: 0.9863 - val_loss: 0.1291 - val_accuracy: 0.9658\n",
      "Epoch 16/100\n",
      "1875/1875 [==============================] - 3s 2ms/step - loss: 0.0387 - accuracy: 0.9878 - val_loss: 0.1227 - val_accuracy: 0.9678\n"
     ]
    }
   ],
   "source": [
    "H = model.fit(x_train, y_train, epochs=100, batch_size=32, validation_data=(x_test, y_test), callbacks=[es])"
   ]
  },
  {
   "cell_type": "code",
   "execution_count": 26,
   "metadata": {},
   "outputs": [
    {
     "name": "stdout",
     "output_type": "stream",
     "text": [
      "313/313 [==============================] - 0s 1ms/step - loss: 0.1186 - accuracy: 0.9689\n"
     ]
    }
   ],
   "source": [
    "eval_metrics = model.evaluate(x_test, y_test)"
   ]
  },
  {
   "cell_type": "code",
   "execution_count": 27,
   "metadata": {},
   "outputs": [
    {
     "data": {
      "text/plain": [
       "dict_keys(['loss', 'accuracy', 'val_loss', 'val_accuracy'])"
      ]
     },
     "execution_count": 27,
     "metadata": {},
     "output_type": "execute_result"
    }
   ],
   "source": [
    "H.history.keys()"
   ]
  },
  {
   "cell_type": "code",
   "execution_count": 28,
   "metadata": {},
   "outputs": [
    {
     "data": {
      "text/plain": [
       "<matplotlib.legend.Legend at 0x1438811d0>"
      ]
     },
     "execution_count": 28,
     "metadata": {},
     "output_type": "execute_result"
    },
    {
     "data": {
      "image/png": "[encoded data removed]",
      "text/plain": [
       "<Figure size 600x400 with 1 Axes>"
      ]
     },
     "metadata": {
      "needs_background": "light"
     },
     "output_type": "display_data"
    }
   ],
   "source": [
    "plt.figure(dpi=100)\n",
    "plt.plot(H.history['val_loss'], label='val_loss')\n",
    "plt.plot(H.history['loss'], label='loss')\n",
    "plt.legend()"
   ]
  },
  {
   "cell_type": "markdown",
   "metadata": {},
   "source": [
    "## 4. Challenges"
   ]
  },
  {
   "cell_type": "markdown",
   "metadata": {},
   "source": [
    "|Model dev steps| High level | Low level | Challenges |\n",
    "| --- | --- | --- | --- |\n",
    "|Input: Raw data|  |  |  |\n",
    "|1. Preprocessing| Normalize, Reshape | Normalization as a layer | Reshape as a layer |\n",
    "|2. Architecture| Type, #layers, #nodes | Functional API, change init | Skip connection |\n",
    "|3. Configure learning| .compile(Optimizer, Loss) | change LR | Accuracy on digit 8 |\n",
    "|4. Train| .fit(x_train, y_train) | Early stopping | ModelCheckpoint |\n",
    "|5. Analyze| .evaluate(x_test, y_test) | History | Plot top 20 losses |\n",
    "|Output: Model|  |  |  |"
   ]
  },
  {
   "cell_type": "markdown",
   "metadata": {},
   "source": [
    "**Challenge descriptions**\n",
    "\n",
    "0. Start by repeating what I have shown so far\n",
    "1. Do the reshaping operation as a layer to obtain an end-to-end NN. Pick the suitable layer from the [documentation](https://keras.io/api/layers/).\n",
    "2. Using the Functional API, build a simple skip connection, fundamental building blocks of [ResNets](https://arxiv.org/abs/1512.03385).\n",
    "\n",
    "<img src=https://i.imgur.com/ayexkaG.png width=\"300\" align=\"center\">\n",
    "<img src=https://i.imgur.com/gJOGDm8.png width=\"200\" align=\"center\">\n",
    "\n",
    "3. Say you are interested in the model accuracy on digit 8, implement it as a custom metric to be used in training.\n",
    "4. Use model checkpoint callback to save best-so-far models in one training job.\n",
    "5. Plot worst 20 model mistakes, inspired by [fastai](https://www.fast.ai/)."
   ]
  },
  {
   "cell_type": "code",
   "execution_count": 29,
   "metadata": {},
   "outputs": [],
   "source": [
    "import numpy as np\n",
    "import matplotlib.pyplot as plt"
   ]
  },
  {
   "cell_type": "code",
   "execution_count": 30,
   "metadata": {},
   "outputs": [],
   "source": [
    "from keras.datasets import mnist\n",
    "(x_train, y_train), (x_test, y_test) = mnist.load_data()"
   ]
  },
  {
   "cell_type": "code",
   "execution_count": 31,
   "metadata": {},
   "outputs": [
    {
     "name": "stdout",
     "output_type": "stream",
     "text": [
      "Label: 5\n"
     ]
    },
    {
     "data": {
      "image/png": "[encoded data removed]",
      "text/plain": [
       "<Figure size 432x288 with 2 Axes>"
      ]
     },
     "metadata": {
      "needs_background": "light"
     },
     "output_type": "display_data"
    }
   ],
   "source": [
    "index = np.random.randint(0, 60000)\n",
    "plt.imshow(x_train[index])\n",
    "plt.colorbar()\n",
    "print('Label:', y_train[index])"
   ]
  },
  {
   "cell_type": "code",
   "execution_count": null,
   "metadata": {},
   "outputs": [],
   "source": []
  },
  {
   "cell_type": "markdown",
   "metadata": {},
   "source": [
    "## 5. Solution"
   ]
  },
  {
   "cell_type": "markdown",
   "metadata": {},
   "source": [
    "|Model dev steps| High level | Low level | Challenges |\n",
    "| --- | --- | --- | --- |\n",
    "|Input: Raw data|  |  |  |\n",
    "|1. Preprocessing| Normalize, Reshape | Normalization as a layer | Reshape as a layer |\n",
    "|2. Architecture| Type, #layers, #nodes | Functional API, change init | Skip connection |\n",
    "|3. Configure learning| .compile(Optimizer, Loss) | change LR | Accuracy on digit 8 |\n",
    "|4. Train| .fit(x_train, y_train) | Early stopping | ModelCheckpoint |\n",
    "|5. Analyze| .evaluate(x_test, y_test) | History | Plot top 20 losses |\n",
    "|Output: Model|  |  |  |"
   ]
  },
  {
   "cell_type": "code",
   "execution_count": 32,
   "metadata": {},
   "outputs": [],
   "source": [
    "import numpy as np\n",
    "import matplotlib.pyplot as plt"
   ]
  },
  {
   "cell_type": "code",
   "execution_count": 33,
   "metadata": {},
   "outputs": [],
   "source": [
    "from keras.datasets import mnist\n",
    "(x_train, y_train), (x_test, y_test) = mnist.load_data()"
   ]
  },
  {
   "cell_type": "code",
   "execution_count": 34,
   "metadata": {},
   "outputs": [
    {
     "name": "stdout",
     "output_type": "stream",
     "text": [
      "Label: 7\n"
     ]
    },
    {
     "data": {
      "image/png": "[encoded data removed]",
      "text/plain": [
       "<Figure size 432x288 with 2 Axes>"
      ]
     },
     "metadata": {
      "needs_background": "light"
     },
     "output_type": "display_data"
    }
   ],
   "source": [
    "index = np.random.randint(0, 60000)\n",
    "plt.imshow(x_train[index])\n",
    "plt.colorbar()\n",
    "print('Label:', y_train[index])"
   ]
  },
  {
   "cell_type": "code",
   "execution_count": 35,
   "metadata": {},
   "outputs": [],
   "source": [
    "from keras.utils import to_categorical\n",
    "y_test = to_categorical(y_test)\n",
    "y_train = to_categorical(y_train)"
   ]
  },
  {
   "cell_type": "code",
   "execution_count": 36,
   "metadata": {},
   "outputs": [
    {
     "name": "stdout",
     "output_type": "stream",
     "text": [
      "Model: \"model_1\"\n",
      "__________________________________________________________________________________________________\n",
      "Layer (type)                    Output Shape         Param #     Connected to                     \n",
      "==================================================================================================\n",
      "input_2 (InputLayer)            [(None, 28, 28)]     0                                            \n",
      "__________________________________________________________________________________________________\n",
      "rescaling_1 (Rescaling)         (None, 28, 28)       0           input_2[0][0]                    \n",
      "__________________________________________________________________________________________________\n",
      "flatten (Flatten)               (None, 784)          0           rescaling_1[0][0]                \n",
      "__________________________________________________________________________________________________\n",
      "dense_9 (Dense)                 (None, 30)           23550       flatten[0][0]                    \n",
      "__________________________________________________________________________________________________\n",
      "activation_9 (Activation)       (None, 30)           0           dense_9[0][0]                    \n",
      "__________________________________________________________________________________________________\n",
      "dense_10 (Dense)                (None, 30)           930         activation_9[0][0]               \n",
      "__________________________________________________________________________________________________\n",
      "add (Add)                       (None, 30)           0           dense_10[0][0]                   \n",
      "                                                                 activation_9[0][0]               \n",
      "__________________________________________________________________________________________________\n",
      "activation_10 (Activation)      (None, 30)           0           add[0][0]                        \n",
      "__________________________________________________________________________________________________\n",
      "dense_11 (Dense)                (None, 10)           310         activation_10[0][0]              \n",
      "__________________________________________________________________________________________________\n",
      "activation_11 (Activation)      (None, 10)           0           dense_11[0][0]                   \n",
      "==================================================================================================\n",
      "Total params: 24,790\n",
      "Trainable params: 24,790\n",
      "Non-trainable params: 0\n",
      "__________________________________________________________________________________________________\n"
     ]
    }
   ],
   "source": [
    "# STEP 2.1 Architecture Functional API\n",
    "from keras.layers import Input\n",
    "from keras.models import Model\n",
    "from keras.layers import Dense, Activation, Flatten, Add\n",
    "from keras.layers.experimental.preprocessing import Rescaling\n",
    "\n",
    "inp = Input(shape=(28, 28))\n",
    "x = Rescaling(scale=1/255)(inp)\n",
    "x = Flatten()(x)\n",
    "x = Dense(30, kernel_initializer='he_normal')(x)\n",
    "o = Activation('relu')(x)\n",
    "x = Dense(30, kernel_initializer='he_normal')(o)\n",
    "x = Add()([x, o])\n",
    "x = Activation('relu')(x)\n",
    "x = Dense(10)(x)\n",
    "x = Activation('softmax')(x)\n",
    "\n",
    "model = Model(inputs=inp, outputs=x)\n",
    "\n",
    "model.summary()"
   ]
  },
  {
   "cell_type": "code",
   "execution_count": 37,
   "metadata": {
    "code_folding": []
   },
   "outputs": [],
   "source": [
    "import tensorflow as tf\n",
    "\n",
    "\n",
    "def acc8(y_true, y_pred):\n",
    "    '''\n",
    "    Custom Keras metric\n",
    "    Calculates the model accuracy on digit 8\n",
    "    '''\n",
    "    labels = tf.argmax(y_true, axis=-1)\n",
    "    preds = tf.argmax(y_pred, axis=-1)\n",
    "    tp = (labels == 8) & (preds == 8)\n",
    "    tp = tf.reduce_sum(tf.cast(tp, tf.int32))\n",
    "    tn = (labels != 8) & (preds != 8)\n",
    "    tn = tf.reduce_sum(tf.cast(tn, tf.int32))\n",
    "    return (tp+tn)/len(preds)"
   ]
  },
  {
   "cell_type": "code",
   "execution_count": 38,
   "metadata": {},
   "outputs": [],
   "source": [
    "from keras.optimizers import Adam\n",
    "opt = Adam(learning_rate=0.001)\n",
    "model.compile(optimizer=opt, loss='categorical_crossentropy', metrics=['accuracy', acc8])"
   ]
  },
  {
   "cell_type": "code",
   "execution_count": 39,
   "metadata": {},
   "outputs": [],
   "source": [
    "from keras.callbacks import EarlyStopping, ModelCheckpoint\n",
    "es = EarlyStopping(monitor='val_accuracy', patience=2, restore_best_weights=True)\n",
    "filepath = \"mnist-model-epoch-{epoch:02d}-val_acc-{val_accuracy:.4f}.hdf5\"\n",
    "checkpoint = ModelCheckpoint(filepath, monitor='val_accuracy', verbose=1, save_best_only=True, mode='max')"
   ]
  },
  {
   "cell_type": "code",
   "execution_count": 40,
   "metadata": {},
   "outputs": [
    {
     "name": "stdout",
     "output_type": "stream",
     "text": [
      "Epoch 1/100\n",
      "1875/1875 [==============================] - 4s 2ms/step - loss: 0.5362 - accuracy: 0.8408 - acc8: 0.9649 - val_loss: 0.1899 - val_accuracy: 0.9443 - val_acc8: 0.9866\n",
      "\n",
      "Epoch 00001: val_accuracy improved from -inf to 0.94430, saving model to mnist-model-epoch-01-val_acc-0.9443.hdf5\n",
      "Epoch 2/100\n",
      "1875/1875 [==============================] - 5s 2ms/step - loss: 0.1824 - accuracy: 0.9448 - acc8: 0.9855 - val_loss: 0.1573 - val_accuracy: 0.9522 - val_acc8: 0.9871\n",
      "\n",
      "Epoch 00002: val_accuracy improved from 0.94430 to 0.95220, saving model to mnist-model-epoch-02-val_acc-0.9522.hdf5\n",
      "Epoch 3/100\n",
      "1875/1875 [==============================] - 5s 3ms/step - loss: 0.1403 - accuracy: 0.9590 - acc8: 0.9879 - val_loss: 0.1496 - val_accuracy: 0.9559 - val_acc8: 0.9879\n",
      "\n",
      "Epoch 00003: val_accuracy improved from 0.95220 to 0.95590, saving model to mnist-model-epoch-03-val_acc-0.9559.hdf5\n",
      "Epoch 4/100\n",
      "1875/1875 [==============================] - 3s 2ms/step - loss: 0.1230 - accuracy: 0.9621 - acc8: 0.9898 - val_loss: 0.1520 - val_accuracy: 0.9558 - val_acc8: 0.9863\n",
      "\n",
      "Epoch 00004: val_accuracy did not improve from 0.95590\n",
      "Epoch 5/100\n",
      "1875/1875 [==============================] - 4s 2ms/step - loss: 0.1070 - accuracy: 0.9682 - acc8: 0.9909 - val_loss: 0.1288 - val_accuracy: 0.9612 - val_acc8: 0.9894\n",
      "\n",
      "Epoch 00005: val_accuracy improved from 0.95590 to 0.96120, saving model to mnist-model-epoch-05-val_acc-0.9612.hdf5\n",
      "Epoch 6/100\n",
      "1875/1875 [==============================] - 6s 3ms/step - loss: 0.0975 - accuracy: 0.9707 - acc8: 0.9918 - val_loss: 0.1233 - val_accuracy: 0.9639 - val_acc8: 0.9893\n",
      "\n",
      "Epoch 00006: val_accuracy improved from 0.96120 to 0.96390, saving model to mnist-model-epoch-06-val_acc-0.9639.hdf5\n",
      "Epoch 7/100\n",
      "1875/1875 [==============================] - 4s 2ms/step - loss: 0.0873 - accuracy: 0.9740 - acc8: 0.9923 - val_loss: 0.1257 - val_accuracy: 0.9612 - val_acc8: 0.9871\n",
      "\n",
      "Epoch 00007: val_accuracy did not improve from 0.96390\n",
      "Epoch 8/100\n",
      "1875/1875 [==============================] - 3s 2ms/step - loss: 0.0797 - accuracy: 0.9754 - acc8: 0.9927 - val_loss: 0.1213 - val_accuracy: 0.9639 - val_acc8: 0.9904\n",
      "\n",
      "Epoch 00008: val_accuracy did not improve from 0.96390\n"
     ]
    }
   ],
   "source": [
    "H = model.fit(x_train, y_train, epochs=100, batch_size=32, validation_data=(x_test, y_test), callbacks=[es, checkpoint])"
   ]
  },
  {
   "cell_type": "code",
   "execution_count": 41,
   "metadata": {},
   "outputs": [
    {
     "name": "stdout",
     "output_type": "stream",
     "text": [
      "313/313 [==============================] - 0s 1ms/step - loss: 0.1233 - accuracy: 0.9639 - acc8: 0.9893\n"
     ]
    }
   ],
   "source": [
    "eval_metrics = model.evaluate(x_test, y_test)"
   ]
  },
  {
   "cell_type": "code",
   "execution_count": 42,
   "metadata": {},
   "outputs": [
    {
     "data": {
      "text/plain": [
       "dict_keys(['loss', 'accuracy', 'acc8', 'val_loss', 'val_accuracy', 'val_acc8'])"
      ]
     },
     "execution_count": 42,
     "metadata": {},
     "output_type": "execute_result"
    }
   ],
   "source": [
    "H.history.keys()"
   ]
  },
  {
   "cell_type": "code",
   "execution_count": 43,
   "metadata": {},
   "outputs": [
    {
     "data": {
      "text/plain": [
       "<matplotlib.legend.Legend at 0x14f6c6b00>"
      ]
     },
     "execution_count": 43,
     "metadata": {},
     "output_type": "execute_result"
    },
    {
     "data": {
      "image/png": "[encoded data removed]",
      "text/plain": [
       "<Figure size 600x400 with 1 Axes>"
      ]
     },
     "metadata": {
      "needs_background": "light"
     },
     "output_type": "display_data"
    }
   ],
   "source": [
    "plt.figure(dpi=100)\n",
    "plt.plot(H.history['val_loss'], label='val_loss')\n",
    "plt.plot(H.history['loss'], label='loss')\n",
    "plt.legend()"
   ]
  },
  {
   "cell_type": "code",
   "execution_count": 44,
   "metadata": {
    "code_folding": [
     3
    ]
   },
   "outputs": [],
   "source": [
    "from keras.losses import CategoricalCrossentropy\n",
    "\n",
    "\n",
    "def plot_top_20_losses(x_test, y_test, y_pred):\n",
    "    # Calculate losses\n",
    "    cce = CategoricalCrossentropy(reduction='none')\n",
    "    losses = cce(y_test, y_pred).numpy()\n",
    "    # Get sorted indices from small to high loss\n",
    "    losses_sorted_indices = losses.argsort()\n",
    "    # Plot top 20 errors\n",
    "    fig = plt.figure(figsize=(10, 10))\n",
    "    columns = 5\n",
    "    rows = 4\n",
    "    for i in range(1, 21):\n",
    "        top_loss_index = losses_sorted_indices[-i]\n",
    "        img = x_test[top_loss_index]\n",
    "        fig.add_subplot(rows, columns, i)\n",
    "        plt.imshow(img)\n",
    "        pred = y_pred[top_loss_index].argmax()\n",
    "        label = y_test[top_loss_index].argmax()\n",
    "        plt.title('Pred:' + str(pred) + ' Label:' + str(label))\n",
    "        plt.axis('off')\n",
    "    plt.show()"
   ]
  },
  {
   "cell_type": "code",
   "execution_count": 45,
   "metadata": {
    "id": "2T5I3ZY-Oy_-"
   },
   "outputs": [
    {
     "data": {
      "image/png": "[encoded data removed]",
      "text/plain": [
       "<Figure size 720x720 with 20 Axes>"
      ]
     },
     "metadata": {
      "needs_background": "light"
     },
     "output_type": "display_data"
    }
   ],
   "source": [
    "y_pred = model.predict(x_test)\n",
    "plot_top_20_losses(x_test, y_test, y_pred)"
   ]
  },
  {
   "cell_type": "code",
   "execution_count": null,
   "metadata": {},
   "outputs": [],
   "source": []
  }
 ],
 "metadata": {
  "colab": {
   "name": "Keras tutorial.ipynb",
   "provenance": []
  },
  "kernelspec": {
   "display_name": "Python 3",
   "language": "python",
   "name": "python3"
  },
  "language_info": {
   "codemirror_mode": {
    "name": "ipython",
    "version": 3
   },
   "file_extension": ".py",
   "mimetype": "text/x-python",
   "name": "python",
   "nbconvert_exporter": "python",
   "pygments_lexer": "ipython3",
   "version": "3.6.5"
  }
 },
 "nbformat": 4,
 "nbformat_minor": 1
}
